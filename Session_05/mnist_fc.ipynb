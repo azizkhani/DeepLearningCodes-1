{
  "nbformat": 4,
  "nbformat_minor": 0,
  "metadata": {
    "colab": {
      "name": "mnist_fc.ipynb",
      "provenance": [],
      "collapsed_sections": []
    },
    "kernelspec": {
      "name": "python3",
      "display_name": "Python 3"
    },
    "accelerator": "GPU"
  },
  "cells": [
    {
      "cell_type": "code",
      "metadata": {
        "id": "g9yflGrK2cKh",
        "colab_type": "code",
        "outputId": "7c80e877-b8db-4363-d312-f3a8f7810cec",
        "colab": {
          "base_uri": "https://localhost:8080/",
          "height": 56
        }
      },
      "source": [
        "from google.colab import drive\n",
        "drive.mount('/content/drive')"
      ],
      "execution_count": 0,
      "outputs": [
        {
          "output_type": "stream",
          "text": [
            "Drive already mounted at /content/drive; to attempt to forcibly remount, call drive.mount(\"/content/drive\", force_remount=True).\n"
          ],
          "name": "stdout"
        }
      ]
    },
    {
      "cell_type": "code",
      "metadata": {
        "id": "BhnJ5qi60rX0",
        "colab_type": "code",
        "colab": {}
      },
      "source": [
        "import os\n",
        "os.chdir('/content/drive/My Drive/Colab_Notebooks/DeepLearning_Baharan/Session_05')"
      ],
      "execution_count": 0,
      "outputs": []
    },
    {
      "cell_type": "code",
      "metadata": {
        "id": "m7OFG0b_3FX3",
        "colab_type": "code",
        "outputId": "885933da-1c02-49dd-d754-c333e2213837",
        "colab": {
          "base_uri": "https://localhost:8080/",
          "height": 36
        }
      },
      "source": [
        "%tensorflow_version 2.x\n",
        "import tensorflow as tf"
      ],
      "execution_count": 0,
      "outputs": [
        {
          "output_type": "stream",
          "text": [
            "TensorFlow 2.x selected.\n"
          ],
          "name": "stdout"
        }
      ]
    },
    {
      "cell_type": "code",
      "metadata": {
        "id": "PMj7qYNn3nyU",
        "colab_type": "code",
        "outputId": "7cc67167-93b7-41a5-a294-9cf05a6002d6",
        "colab": {
          "base_uri": "https://localhost:8080/",
          "height": 36
        }
      },
      "source": [
        "tf.__version__"
      ],
      "execution_count": 0,
      "outputs": [
        {
          "output_type": "execute_result",
          "data": {
            "text/plain": [
              "'2.1.0-rc1'"
            ]
          },
          "metadata": {
            "tags": []
          },
          "execution_count": 4
        }
      ]
    },
    {
      "cell_type": "code",
      "metadata": {
        "id": "wpO-1ghp3-aa",
        "colab_type": "code",
        "colab": {}
      },
      "source": [
        "import matplotlib.pyplot as plt\n",
        "import numpy as np\n",
        "import tensorflow as tf\n",
        "from tensorflow.keras.datasets import mnist\n",
        "from tensorflow.keras import utils, layers, models, optimizers, losses"
      ],
      "execution_count": 0,
      "outputs": []
    },
    {
      "cell_type": "code",
      "metadata": {
        "id": "5757RRWK6Xya",
        "colab_type": "code",
        "colab": {}
      },
      "source": [
        "n_classes = 10\n",
        "batch_size = 32"
      ],
      "execution_count": 0,
      "outputs": []
    },
    {
      "cell_type": "code",
      "metadata": {
        "id": "syzCcNQE5UnT",
        "colab_type": "code",
        "outputId": "f4b566e1-ef8f-4979-84fc-98244b3c394c",
        "colab": {
          "base_uri": "https://localhost:8080/",
          "height": 92
        }
      },
      "source": [
        "(x_train, y_train), (x_test, y_test) = mnist.load_data()\n",
        "x_train = x_train.reshape((-1, 784)).astype(np.float32) / 255.\n",
        "x_test = x_test.reshape((-1, 784)).astype(np.float32) / 255. \n",
        "\n",
        "# y_train = utils.to_categorical(y_train, num_classes=n_classes)\n",
        "# y_test = utils.to_categorical(y_test, num_classes=n_classes)\n",
        "print(\"x_train.shape: \", x_train.shape)\n",
        "print(\"y_train.shape: \", y_train.shape)\n",
        "print(\"x_test.shape: \", x_test.shape)\n",
        "print(\"y_test.shape: \", y_test.shape)"
      ],
      "execution_count": 0,
      "outputs": [
        {
          "output_type": "stream",
          "text": [
            "x_train.shape:  (60000, 784)\n",
            "y_train.shape:  (60000,)\n",
            "x_test.shape:  (10000, 784)\n",
            "y_test.shape:  (10000,)\n"
          ],
          "name": "stdout"
        }
      ]
    },
    {
      "cell_type": "code",
      "metadata": {
        "id": "PKKnbNQV5rWi",
        "colab_type": "code",
        "colab": {}
      },
      "source": [
        "inputs = layers.Input(shape=784, name='inputs' )\n",
        "x = inputs\n",
        "x = layers.Dense(units=256, name='my_dense_1')(x)\n",
        "x = layers.LeakyReLU(0.4)(x)\n",
        "x = layers.Dense(units=256, name='my_dense_2')(x)\n",
        "x = layers.Activation('relu')(x)\n",
        "outputs = layers.Dense(units=n_classes, activation='softmax', name='output')(x)"
      ],
      "execution_count": 0,
      "outputs": []
    },
    {
      "cell_type": "code",
      "metadata": {
        "id": "99wRB-wV8CCH",
        "colab_type": "code",
        "colab": {}
      },
      "source": [
        "model = models.Model(inputs=inputs, outputs= outputs)"
      ],
      "execution_count": 0,
      "outputs": []
    },
    {
      "cell_type": "code",
      "metadata": {
        "id": "x-zFR8Ky8Dua",
        "colab_type": "code",
        "outputId": "1584c825-7a88-427b-844d-fad84d79ef09",
        "colab": {
          "base_uri": "https://localhost:8080/",
          "height": 393
        }
      },
      "source": [
        "model.summary()"
      ],
      "execution_count": 0,
      "outputs": [
        {
          "output_type": "stream",
          "text": [
            "Model: \"model_2\"\n",
            "_________________________________________________________________\n",
            "Layer (type)                 Output Shape              Param #   \n",
            "=================================================================\n",
            "inputs (InputLayer)          [(None, 784)]             0         \n",
            "_________________________________________________________________\n",
            "my_dense_1 (Dense)           (None, 256)               200960    \n",
            "_________________________________________________________________\n",
            "leaky_re_lu_1 (LeakyReLU)    (None, 256)               0         \n",
            "_________________________________________________________________\n",
            "my_dense_2 (Dense)           (None, 256)               65792     \n",
            "_________________________________________________________________\n",
            "activation_1 (Activation)    (None, 256)               0         \n",
            "_________________________________________________________________\n",
            "output (Dense)               (None, 10)                2570      \n",
            "=================================================================\n",
            "Total params: 269,322\n",
            "Trainable params: 269,322\n",
            "Non-trainable params: 0\n",
            "_________________________________________________________________\n"
          ],
          "name": "stdout"
        }
      ]
    },
    {
      "cell_type": "code",
      "metadata": {
        "id": "Ba3Ubhk-_dYJ",
        "colab_type": "code",
        "colab": {}
      },
      "source": [
        "model.compile(optimizer=optimizers.Adam(learning_rate=0.0001), loss=losses.sparse_categorical_crossentropy, metrics=['accuracy'])"
      ],
      "execution_count": 0,
      "outputs": []
    },
    {
      "cell_type": "code",
      "metadata": {
        "id": "Dyqd28fuRF_v",
        "colab_type": "code",
        "outputId": "a5163f1a-a38f-4ed5-f509-d8abdad9ba44",
        "colab": {
          "base_uri": "https://localhost:8080/",
          "height": 644
        }
      },
      "source": [
        "utils.plot_model(model, to_file='mnist_fc_model.png', show_shapes=True)"
      ],
      "execution_count": 0,
      "outputs": [
        {
          "output_type": "execute_result",
          "data": {
            "image/png": "[encoded data removed]",
            "text/plain": [
              "<IPython.core.display.Image object>"
            ]
          },
          "metadata": {
            "tags": []
          },
          "execution_count": 22
        }
      ]
    },
    {
      "cell_type": "code",
      "metadata": {
        "id": "COFm-hUuAqH3",
        "colab_type": "code",
        "outputId": "73207f0a-5177-4fab-8344-75dd3722e899",
        "colab": {
          "base_uri": "https://localhost:8080/",
          "height": 244
        }
      },
      "source": [
        "history = model.fit(x_train, y_train, batch_size=32, epochs=5, validation_data=(x_test, y_test))"
      ],
      "execution_count": 0,
      "outputs": [
        {
          "output_type": "stream",
          "text": [
            "Train on 60000 samples, validate on 10000 samples\n",
            "Epoch 1/5\n",
            "60000/60000 [==============================] - 7s 111us/sample - loss: 0.4341 - accuracy: 0.8849 - val_loss: 0.2337 - val_accuracy: 0.9326\n",
            "Epoch 2/5\n",
            "60000/60000 [==============================] - 5s 77us/sample - loss: 0.2126 - accuracy: 0.9395 - val_loss: 0.1779 - val_accuracy: 0.9467\n",
            "Epoch 3/5\n",
            "60000/60000 [==============================] - 5s 76us/sample - loss: 0.1644 - accuracy: 0.9532 - val_loss: 0.1475 - val_accuracy: 0.9562\n",
            "Epoch 4/5\n",
            "60000/60000 [==============================] - 5s 79us/sample - loss: 0.1342 - accuracy: 0.9612 - val_loss: 0.1250 - val_accuracy: 0.9638\n",
            "Epoch 5/5\n",
            "60000/60000 [==============================] - 5s 80us/sample - loss: 0.1125 - accuracy: 0.9676 - val_loss: 0.1141 - val_accuracy: 0.9648\n"
          ],
          "name": "stdout"
        }
      ]
    },
    {
      "cell_type": "code",
      "metadata": {
        "id": "k5snpOU4A70Y",
        "colab_type": "code",
        "colab": {}
      },
      "source": [
        "weights = model.get_weights()"
      ],
      "execution_count": 0,
      "outputs": []
    },
    {
      "cell_type": "code",
      "metadata": {
        "id": "8WL1hKuqLbg8",
        "colab_type": "code",
        "outputId": "24d4e695-89d8-4e07-873b-4818d0f70e7f",
        "colab": {
          "base_uri": "https://localhost:8080/",
          "height": 36
        }
      },
      "source": [
        "len(weights)"
      ],
      "execution_count": 0,
      "outputs": [
        {
          "output_type": "execute_result",
          "data": {
            "text/plain": [
              "6"
            ]
          },
          "metadata": {
            "tags": []
          },
          "execution_count": 55
        }
      ]
    },
    {
      "cell_type": "code",
      "metadata": {
        "id": "lq_dZktALduQ",
        "colab_type": "code",
        "outputId": "a3fe13b3-f3c8-4541-a287-52df8c5126f2",
        "colab": {
          "base_uri": "https://localhost:8080/",
          "height": 130
        }
      },
      "source": [
        "for weight in weights:\n",
        "    print(weight.shape)"
      ],
      "execution_count": 0,
      "outputs": [
        {
          "output_type": "stream",
          "text": [
            "(784, 256)\n",
            "(256,)\n",
            "(256, 256)\n",
            "(256,)\n",
            "(256, 10)\n",
            "(10,)\n"
          ],
          "name": "stdout"
        }
      ]
    },
    {
      "cell_type": "code",
      "metadata": {
        "id": "oMhzvdx_LlL4",
        "colab_type": "code",
        "outputId": "10060b47-2485-41fd-c446-6dd5cd9f044d",
        "colab": {
          "base_uri": "https://localhost:8080/",
          "height": 92
        }
      },
      "source": [
        "for layer in model.layers:\n",
        "    print(layer.name)\n"
      ],
      "execution_count": 0,
      "outputs": [
        {
          "output_type": "stream",
          "text": [
            "inputs\n",
            "my_dense_1\n",
            "my_dense_2\n",
            "output\n"
          ],
          "name": "stdout"
        }
      ]
    },
    {
      "cell_type": "code",
      "metadata": {
        "id": "LyPAbNzRLxl5",
        "colab_type": "code",
        "colab": {}
      },
      "source": [
        "idx = 56\n",
        "sample = x_test[idx]\n",
        "label = np.argmax(y_test[idx])"
      ],
      "execution_count": 0,
      "outputs": []
    },
    {
      "cell_type": "code",
      "metadata": {
        "id": "uA_FTJWVNKbR",
        "colab_type": "code",
        "outputId": "2ea59a95-0408-42d5-ce96-7a790e6cb76c",
        "colab": {
          "base_uri": "https://localhost:8080/",
          "height": 284
        }
      },
      "source": [
        "plt.imshow(x_test[idx].reshape(28,28)), label"
      ],
      "execution_count": 0,
      "outputs": [
        {
          "output_type": "execute_result",
          "data": {
            "text/plain": [
              "(<matplotlib.image.AxesImage at 0x7fec9a0eb2e8>, 4)"
            ]
          },
          "metadata": {
            "tags": []
          },
          "execution_count": 65
        },
        {
          "output_type": "display_data",
          "data": {
            "image/png": "[encoded data removed]",
            "text/plain": [
              "<Figure size 432x288 with 1 Axes>"
            ]
          },
          "metadata": {
            "tags": []
          }
        }
      ]
    },
    {
      "cell_type": "code",
      "metadata": {
        "id": "KIj1nPlhNVNg",
        "colab_type": "code",
        "outputId": "13b20ea9-976c-41c2-e3d8-a6f1c5e27c2f",
        "colab": {
          "base_uri": "https://localhost:8080/",
          "height": 55
        }
      },
      "source": [
        "sample = x_test[idx]\n",
        "sample = np.expand_dims(sample, axis=0)\n",
        "print(sample.shape)\n",
        "np.argmax(model.predict(sample), axis=1)"
      ],
      "execution_count": 0,
      "outputs": [
        {
          "output_type": "stream",
          "text": [
            "(1, 784)\n"
          ],
          "name": "stdout"
        },
        {
          "output_type": "execute_result",
          "data": {
            "text/plain": [
              "array([4])"
            ]
          },
          "metadata": {
            "tags": []
          },
          "execution_count": 98
        }
      ]
    },
    {
      "cell_type": "code",
      "metadata": {
        "id": "8lXFb-CbN4rg",
        "colab_type": "code",
        "outputId": "594bdd42-56bf-4ff0-fa3b-ef0a98e1f180",
        "colab": {
          "base_uri": "https://localhost:8080/",
          "height": 55
        }
      },
      "source": [
        "model.evaluate(x_test, y_test)"
      ],
      "execution_count": 0,
      "outputs": [
        {
          "output_type": "stream",
          "text": [
            "10000/10000 [==============================] - 1s 60us/sample - loss: 0.0743 - accuracy: 0.9788\n"
          ],
          "name": "stdout"
        },
        {
          "output_type": "execute_result",
          "data": {
            "text/plain": [
              "[0.07434016635056469, 0.9788]"
            ]
          },
          "metadata": {
            "tags": []
          },
          "execution_count": 79
        }
      ]
    },
    {
      "cell_type": "code",
      "metadata": {
        "id": "MEM22Es_PGCd",
        "colab_type": "code",
        "colab": {}
      },
      "source": [
        "history = model.history.history"
      ],
      "execution_count": 0,
      "outputs": []
    },
    {
      "cell_type": "code",
      "metadata": {
        "id": "mAqydb9rP2Y_",
        "colab_type": "code",
        "outputId": "a116833c-8a3d-41f9-a049-6202898344b0",
        "colab": {
          "base_uri": "https://localhost:8080/",
          "height": 36
        }
      },
      "source": [
        "len(history['accuracy'])"
      ],
      "execution_count": 0,
      "outputs": [
        {
          "output_type": "execute_result",
          "data": {
            "text/plain": [
              "5"
            ]
          },
          "metadata": {
            "tags": []
          },
          "execution_count": 91
        }
      ]
    },
    {
      "cell_type": "code",
      "metadata": {
        "id": "CAsP906_PS0V",
        "colab_type": "code",
        "outputId": "4b57bc28-40f4-4e8b-b32a-9f0e54ed266c",
        "colab": {
          "base_uri": "https://localhost:8080/",
          "height": 284
        }
      },
      "source": [
        "plt.plot(history['accuracy'], label='train_acc')\n",
        "plt.plot(history['val_accuracy'], label='val_acc')\n",
        "plt.legend()"
      ],
      "execution_count": 0,
      "outputs": [
        {
          "output_type": "execute_result",
          "data": {
            "text/plain": [
              "<matplotlib.legend.Legend at 0x7fec9a426780>"
            ]
          },
          "metadata": {
            "tags": []
          },
          "execution_count": 93
        },
        {
          "output_type": "display_data",
          "data": {
            "image/png": "[encoded data removed]",
            "text/plain": [
              "<Figure size 432x288 with 1 Axes>"
            ]
          },
          "metadata": {
            "tags": []
          }
        }
      ]
    },
    {
      "cell_type": "code",
      "metadata": {
        "id": "j5nkp5NfPcfR",
        "colab_type": "code",
        "outputId": "5a38db2a-3f30-46d7-e420-4d5c2c5043de",
        "colab": {
          "base_uri": "https://localhost:8080/",
          "height": 284
        }
      },
      "source": [
        "plt.plot(history['loss'], label='train_loss')\n",
        "plt.plot(history['val_loss'], label='val_loss')\n",
        "plt.legend()"
      ],
      "execution_count": 0,
      "outputs": [
        {
          "output_type": "execute_result",
          "data": {
            "text/plain": [
              "<matplotlib.legend.Legend at 0x7fecb0293dd8>"
            ]
          },
          "metadata": {
            "tags": []
          },
          "execution_count": 94
        },
        {
          "output_type": "display_data",
          "data": {
            "image/png": "[encoded data removed]",
            "text/plain": [
              "<Figure size 432x288 with 1 Axes>"
            ]
          },
          "metadata": {
            "tags": []
          }
        }
      ]
    },
    {
      "cell_type": "code",
      "metadata": {
        "id": "WUYsF_WqQIyv",
        "colab_type": "code",
        "colab": {}
      },
      "source": [
        "model.save('mnist_fc_model.h5')"
      ],
      "execution_count": 0,
      "outputs": []
    },
    {
      "cell_type": "code",
      "metadata": {
        "id": "lqMa-UHxRu92",
        "colab_type": "code",
        "colab": {}
      },
      "source": [
        "model = models.load_model('mnist_fc_model.h5')"
      ],
      "execution_count": 0,
      "outputs": []
    },
    {
      "cell_type": "code",
      "metadata": {
        "id": "g_paqHoUR-YC",
        "colab_type": "code",
        "colab": {}
      },
      "source": [
        "model.save_weights()\n",
        "model.load_weights()"
      ],
      "execution_count": 0,
      "outputs": []
    }
  ]
}